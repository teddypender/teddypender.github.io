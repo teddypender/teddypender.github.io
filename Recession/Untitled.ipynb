{
 "cells": [
  {
   "cell_type": "code",
   "execution_count": 9,
   "metadata": {},
   "outputs": [],
   "source": [
    "import numpy as np\n",
    "import pandas as pd\n",
    "import matplotlib.pyplot as plt\n",
    "import time\n",
    "from fredapi import Fred\n"
   ]
  },
  {
   "cell_type": "code",
   "execution_count": 11,
   "metadata": {},
   "outputs": [
    {
     "ename": "IndentationError",
     "evalue": "unindent does not match any outer indentation level (<tokenize>, line 26)",
     "output_type": "error",
     "traceback": [
      "\u001b[0;36m  File \u001b[0;32m\"<tokenize>\"\u001b[0;36m, line \u001b[0;32m26\u001b[0m\n\u001b[0;31m    fred = Fred(api_key='insert api key here')\u001b[0m\n\u001b[0m    ^\u001b[0m\n\u001b[0;31mIndentationError\u001b[0m\u001b[0;31m:\u001b[0m unindent does not match any outer indentation level\n"
     ]
    }
   ],
   "source": [
    "\"\"\"\n",
    "Functionaility\n",
    "\n",
    "Variables:\n",
    "---------\n",
    "fred_series_ids = {'Non-farm_Payrolls': 'PAYEMS',\n",
    "                    'Civilian_Unemployment_Rate': 'UNRATE',\n",
    "                    'Effective_Fed_Funds': 'FEDFUNDS',\n",
    "                    'CPI_All_Items': 'CPIAUCSL',\n",
    "                    '10Y_Treasury_Rate': 'GS10',\n",
    "                    '5Y_Treasury_Rate': 'GS5',\n",
    "                    '3_Month_T-Bill_Rate': 'TB3MS',\n",
    "                    'IPI': 'INDPRO'}\n",
    "yahoo_series_ids = {'S&P_500_Index': '^GSPC'}\n",
    "primary_dictionary_output = {}\n",
    "primary_df_output = pd.DataFrame()\n",
    "shortest_series_name = ''\n",
    "shortest_series_length = 1000000\n",
    "secondary_df_output = pd.DataFrame()\n",
    "\"\"\"\n",
    "def getFredData(fred_series_ids):\n",
    "     \"\"\"\n",
    "    Cycles through \"fred_series\"ids\" to get data from the FRED API.\n",
    "    \"\"\"\n",
    "    \n",
    "    fred = Fred(api_key='insert api key here')\n",
    "\n",
    "        \n",
    "    now = datetime.now()\n",
    "    month = now.strftime('%m')\n",
    "    year = now.year        \n",
    "    most_recent_date = '{}-{}-07'.format(year, month)\n",
    "    print('\\nGetting data from FRED API as of {}...'.format(most_recent_date))\n",
    "    \n",
    "    for series_name in list(fred_series_ids.keys()):\n",
    "        series_data = DataSeries()\n",
    "        series_id = fred_series_ids[series_name]\n",
    "        print('\\t|--Getting data for {}({}).'.format(series_name, series_id))\n",
    "          \n",
    "        data = fred.get_series('SP500')\n",
    "        primary_dictionary_output[series_name] = data"
   ]
  },
  {
   "cell_type": "code",
   "execution_count": 3,
   "metadata": {},
   "outputs": [],
   "source": [
    "\"\"\"\n",
    "fred_series_ids: identifiers for FRED data series.\n",
    "\n",
    "yahoo series_ids: identifiers for Yahoo Finance data series.\n",
    "\"\"\"\n",
    "fred_series_ids = {'Non-farm_Payrolls': 'PAYEMS',\n",
    "                    'Civilian_Unemployment_Rate': 'UNRATE',\n",
    "                    'Effective_Fed_Funds': 'FEDFUNDS',\n",
    "                    'CPI_All_Items': 'CPIAUCSL',\n",
    "                    '10Y_Treasury_Rate': 'GS10',\n",
    "                    '5Y_Treasury_Rate': 'GS5',\n",
    "                    '3_Month_T-Bill_Rate': 'TB3MS',\n",
    "                    'IPI': 'INDPRO'}\n",
    "yahoo_series_ids = {'S&P_500_Index': '^GSPC'}\n",
    "primary_dictionary_output = {}\n",
    "primary_df_output = pd.DataFrame()\n",
    "shortest_series_name = ''\n",
    "shortest_series_length = 1000000\n",
    "secondary_df_output = pd.DataFrame()"
   ]
  },
  {
   "cell_type": "code",
   "execution_count": 8,
   "metadata": {},
   "outputs": [
    {
     "ename": "TypeError",
     "evalue": "get_fred_data() missing 1 required positional argument: 'self'",
     "output_type": "error",
     "traceback": [
      "\u001b[0;31m---------------------------------------------------------------------------\u001b[0m",
      "\u001b[0;31mTypeError\u001b[0m                                 Traceback (most recent call last)",
      "\u001b[0;32m<ipython-input-8-f209830e9820>\u001b[0m in \u001b[0;36m<module>\u001b[0;34m\u001b[0m\n\u001b[0;32m----> 1\u001b[0;31m \u001b[0mMakeDataset\u001b[0m\u001b[0;34m.\u001b[0m\u001b[0mget_fred_data\u001b[0m\u001b[0;34m(\u001b[0m\u001b[0;34m)\u001b[0m\u001b[0;34m\u001b[0m\u001b[0m\n\u001b[0m",
      "\u001b[0;31mTypeError\u001b[0m: get_fred_data() missing 1 required positional argument: 'self'"
     ]
    }
   ],
   "source": [
    "MakeDataset.get_fred_data()"
   ]
  },
  {
   "cell_type": "code",
   "execution_count": 6,
   "metadata": {},
   "outputs": [],
   "source": [
    "fred_api_key = 'e0e39002ebdae285ab9269213a68ccda'"
   ]
  },
  {
   "cell_type": "code",
   "execution_count": null,
   "metadata": {},
   "outputs": [],
   "source": []
  }
 ],
 "metadata": {
  "kernelspec": {
   "display_name": "Python [conda env:anaconda3]",
   "language": "python",
   "name": "conda-env-anaconda3-py"
  },
  "language_info": {
   "codemirror_mode": {
    "name": "ipython",
    "version": 3
   },
   "file_extension": ".py",
   "mimetype": "text/x-python",
   "name": "python",
   "nbconvert_exporter": "python",
   "pygments_lexer": "ipython3",
   "version": "3.6.5"
  }
 },
 "nbformat": 4,
 "nbformat_minor": 2
}
